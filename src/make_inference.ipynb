{
 "cells": [
  {
   "cell_type": "code",
   "execution_count": 1,
   "id": "a15e9038",
   "metadata": {},
   "outputs": [],
   "source": [
    "import warnings\n",
    "warnings.filterwarnings('ignore')\n",
    "\n",
    "import os\n",
    "\n",
    "import os.path as p\n",
    "from evaluation import evaluate_base, evaluate_ensemble\n",
    "from cnn_be import CNN_be\n",
    "from cnn import CNN\n",
    "import torch\n",
    "import torchvision\n",
    "from torch.nn.utils import prune\n",
    "from torchvision import datasets, transforms"
   ]
  },
  {
   "cell_type": "code",
   "execution_count": 3,
   "id": "1702590e",
   "metadata": {},
   "outputs": [],
   "source": [
    "transform = transforms.Compose([transforms.Resize((32, 32)), transforms.ToTensor()])\n",
    "\n",
    "test_dataset = datasets.FashionMNIST('~/.pytorch/F_MNIST_data/', download=True, train=False, transform=transform)\n",
    "test_loader = torch.utils.data.DataLoader(test_dataset, batch_size=128, shuffle=False)\n",
    "device = torch.device(\"cuda:0\" if torch.cuda.is_available() else \"cpu\")"
   ]
  },
  {
   "cell_type": "markdown",
   "id": "ca3751bd",
   "metadata": {},
   "source": [
    "# Single Model & Ensemble Teacher Model "
   ]
  },
  {
   "cell_type": "code",
   "execution_count": 3,
   "id": "0efb397b",
   "metadata": {},
   "outputs": [
    {
     "name": "stderr",
     "output_type": "stream",
     "text": [
      "79it [00:08,  9.81it/s]\n"
     ]
    },
    {
     "name": "stdout",
     "output_type": "stream",
     "text": [
      "0.8845925632911392\n",
      "0.4163937359821947\n",
      "0.062311239540576935\n",
      "0.4461145848262159\n",
      "0.09331009536981583\n"
     ]
    },
    {
     "name": "stderr",
     "output_type": "stream",
     "text": [
      "79it [00:02, 36.45it/s]"
     ]
    },
    {
     "name": "stdout",
     "output_type": "stream",
     "text": [
      "0.9081289556962026\n",
      "0.32838801776306537\n",
      "0.05616796016693115\n",
      "0.3927274647845498\n",
      "0.10199322551488876\n"
     ]
    },
    {
     "name": "stderr",
     "output_type": "stream",
     "text": [
      "\n"
     ]
    }
   ],
   "source": [
    "# model update\n",
    "tmodel = []\n",
    "ckpt = '/home/chaeyoon-jang/test/fashion_mnist/ckpt2'\n",
    "for num in range(4):\n",
    "    seed = 42 + num\n",
    "    model = CNN()\n",
    "    ckpt_p = p.join(ckpt, str(seed)+\"_teacher_model_checkpoint.pt\")\n",
    "    model.load_state_dict(torch.load(ckpt_p)['model_state_dict'])\n",
    "    tmodel.append(model)\n",
    "\n",
    "# evaluate singel model\n",
    "evaluate_base(tmodel[0], test_loader, device)\n",
    "\n",
    "# evaluate ensemble teacher model\n",
    "evaluate_ensemble(tmodel, test_loader, 0, device)"
   ]
  },
  {
   "cell_type": "markdown",
   "id": "b3b496b3",
   "metadata": {},
   "source": [
    "# Knowledge Distillation Model"
   ]
  },
  {
   "cell_type": "code",
   "execution_count": 4,
   "id": "9fcb7349",
   "metadata": {},
   "outputs": [
    {
     "name": "stderr",
     "output_type": "stream",
     "text": [
      "79it [00:07,  9.98it/s]"
     ]
    },
    {
     "name": "stdout",
     "output_type": "stream",
     "text": [
      "0.8855814873417721\n",
      "0.40195695001867754\n",
      "0.06054038181900978\n",
      "0.4642007240464416\n",
      "0.1084030494093895\n"
     ]
    },
    {
     "name": "stderr",
     "output_type": "stream",
     "text": [
      "\n"
     ]
    }
   ],
   "source": [
    "# model update\n",
    "ckpt = \"/home/chaeyoon-jang/test/fashion_mnist/ckpt2/KD_model_checkpoint_epoch_166.pt\"\n",
    "kd = CNN()\n",
    "kd.load_state_dict(torch.load(ckpt)['model_state_dict'])\n",
    "\n",
    "# evaluate kd model\n",
    "evaluate_base(kd, test_loader, device)"
   ]
  },
  {
   "cell_type": "markdown",
   "id": "e293a482",
   "metadata": {},
   "source": [
    "# General BatchEnsemble & LatentBE"
   ]
  },
  {
   "cell_type": "code",
   "execution_count": 6,
   "id": "1afe51c5",
   "metadata": {},
   "outputs": [
    {
     "name": "stderr",
     "output_type": "stream",
     "text": [
      "79it [00:02, 34.00it/s]\n"
     ]
    },
    {
     "name": "stdout",
     "output_type": "stream",
     "text": [
      "0.8587816455696202\n",
      "0.5114394671403909\n",
      "0.0753195583820343\n",
      "0.7353108087370667\n",
      "0.21555544435977936\n"
     ]
    },
    {
     "name": "stderr",
     "output_type": "stream",
     "text": [
      "79it [00:06, 11.44it/s]"
     ]
    },
    {
     "name": "stdout",
     "output_type": "stream",
     "text": [
      "0.858682753164557\n",
      "0.5113549387605885\n",
      "0.0753621831536293\n",
      "0.7345952287504944\n",
      "0.21516306698322296\n"
     ]
    },
    {
     "name": "stderr",
     "output_type": "stream",
     "text": [
      "\n"
     ]
    }
   ],
   "source": [
    "# model update\n",
    "ckpt = \"/home/chaeyoon-jang/test/fashion_mnist/ckpt/LatentBE_model_checkpoint_epoch_974.pt\"\n",
    "\n",
    "latentbe = CNN_be(inference=True, bias_is=True)\n",
    "generalbe = CNN_be(bias_is=True)\n",
    "\n",
    "latentbe.load_state_dict(torch.load(ckpt)['model_state_dict'])\n",
    "generalbe.load_state_dict(torch.load(ckpt)['model_state_dict'])\n",
    "\n",
    "# make latentBE\n",
    "for name, p in latentbe.named_parameters():\n",
    "    if name == \"layer1.0.conv.weight\":\n",
    "        p.data = p.data.mul(torch.mean(latentbe.get_parameter('layer1.0.r_factor'), dim=0).view(1, -1, 1, 1))\n",
    "        p.data = p.data.mul(torch.mean(latentbe.get_parameter('layer1.0.s_factor'), dim=0).view(-1, 1, 1, 1))\n",
    "    \n",
    "    elif name == \"layer1.0.bias\":\n",
    "        p.data = torch.mean(latentbe.get_parameter('layer1.0.bias'), dim=0)\n",
    "        \n",
    "    elif name == \"layer2.0.conv.weight\":\n",
    "        p.data = p.data.mul(torch.mean(latentbe.get_parameter('layer2.0.r_factor'), dim=0).view(1, -1, 1, 1))\n",
    "        p.data = p.data.mul(torch.mean(latentbe.get_parameter('layer2.0.s_factor'), dim=0).view(-1, 1, 1, 1))\n",
    "    \n",
    "    elif name == \"layer2.0.bias\":\n",
    "        p.data = torch.mean(latentbe.get_parameter('layer2.0.bias'), dim=0)\n",
    "        \n",
    "    elif name == \"fc1.linear.weight\":\n",
    "        p.data = p.data.mul(torch.mean(latentbe.get_parameter('fc1.r_factor'), dim=0).view(1, -1))\n",
    "        p.data = p.data.mul(torch.mean(latentbe.get_parameter('fc1.s_factor'), dim=0).view(-1, 1))\n",
    "    \n",
    "    elif name == \"fc1.bias\":\n",
    "        p.data = torch.mean(latentbe.get_parameter('fc1.bias'), dim=0)\n",
    "        \n",
    "    elif name == \"fc2.linear.weight\":\n",
    "        p.data = p.data.mul(torch.mean(latentbe.get_parameter('fc2.r_factor'), dim=0).view(1, -1))\n",
    "        p.data = p.data.mul(torch.mean(latentbe.get_parameter('fc2.s_factor'), dim=0).view(-1, 1))\n",
    "        \n",
    "    elif name == \"fc2.bias\":\n",
    "        p.data = torch.mean(latentbe.get_parameter('fc2.bias'), dim=0)\n",
    "        \n",
    "    elif name == \"fc3.linear.weight\":\n",
    "        p.data = p.data.mul(torch.mean(latentbe.get_parameter('fc3.r_factor'), dim=0).view(1, -1))\n",
    "        p.data = p.data.mul(torch.mean(latentbe.get_parameter('fc3.s_factor'), dim=0).view(-1, 1))\n",
    "\n",
    "    elif name == \"fc3.bias\":\n",
    "        p.data = torch.mean(latentbe.get_parameter('fc3.bias'), dim=0)\n",
    "\n",
    "# evaluate general BE\n",
    "evaluate_ensemble(generalbe, test_loader, 4, device)\n",
    "\n",
    "# evaluate latentBE\n",
    "evaluate_base(latentbe, test_loader, device)"
   ]
  },
  {
   "cell_type": "markdown",
   "id": "72f496a1",
   "metadata": {},
   "source": [
    "# LatentBE + div"
   ]
  },
  {
   "cell_type": "code",
   "execution_count": 4,
   "id": "430e4c0b",
   "metadata": {},
   "outputs": [
    {
     "name": "stderr",
     "output_type": "stream",
     "text": [
      "79it [00:07, 10.92it/s]"
     ]
    },
    {
     "name": "stdout",
     "output_type": "stream",
     "text": [
      "0.8520569620253164\n",
      "0.5166575372671779\n",
      "0.07369819283485413\n",
      "0.7391640448268455\n",
      "0.21054105460643768\n"
     ]
    },
    {
     "name": "stderr",
     "output_type": "stream",
     "text": [
      "\n"
     ]
    }
   ],
   "source": [
    "# model update\n",
    "ckpt = \"/home/chaeyoon-jang/test/fashion_mnist/ckpt2/LatentBE_div_model_checkpoint_epoch_99.pt\"\n",
    "\n",
    "latentbe = CNN_be(inference=True, bias_is=True)\n",
    "\n",
    "latentbe.load_state_dict(torch.load(ckpt)['model_state_dict'])\n",
    "\n",
    "# make latentBE\n",
    "for name, p in latentbe.named_parameters():\n",
    "    if name == \"layer1.0.conv.weight\":\n",
    "        p.data = p.data.mul(torch.mean(latentbe.get_parameter('layer1.0.r_factor'), dim=0).view(1, -1, 1, 1))\n",
    "        p.data = p.data.mul(torch.mean(latentbe.get_parameter('layer1.0.s_factor'), dim=0).view(-1, 1, 1, 1))\n",
    "    \n",
    "    elif name == \"layer1.0.bias\":\n",
    "        p.data = torch.mean(latentbe.get_parameter('layer1.0.bias'), dim=0)\n",
    "        \n",
    "    elif name == \"layer2.0.conv.weight\":\n",
    "        p.data = p.data.mul(torch.mean(latentbe.get_parameter('layer2.0.r_factor'), dim=0).view(1, -1, 1, 1))\n",
    "        p.data = p.data.mul(torch.mean(latentbe.get_parameter('layer2.0.s_factor'), dim=0).view(-1, 1, 1, 1))\n",
    "    \n",
    "    elif name == \"layer2.0.bias\":\n",
    "        p.data = torch.mean(latentbe.get_parameter('layer2.0.bias'), dim=0)\n",
    "        \n",
    "    elif name == \"fc1.linear.weight\":\n",
    "        p.data = p.data.mul(torch.mean(latentbe.get_parameter('fc1.r_factor'), dim=0).view(1, -1))\n",
    "        p.data = p.data.mul(torch.mean(latentbe.get_parameter('fc1.s_factor'), dim=0).view(-1, 1))\n",
    "    \n",
    "    elif name == \"fc1.bias\":\n",
    "        p.data = torch.mean(latentbe.get_parameter('fc1.bias'), dim=0)\n",
    "        \n",
    "    elif name == \"fc2.linear.weight\":\n",
    "        p.data = p.data.mul(torch.mean(latentbe.get_parameter('fc2.r_factor'), dim=0).view(1, -1))\n",
    "        p.data = p.data.mul(torch.mean(latentbe.get_parameter('fc2.s_factor'), dim=0).view(-1, 1))\n",
    "        \n",
    "    elif name == \"fc2.bias\":\n",
    "        p.data = torch.mean(latentbe.get_parameter('fc2.bias'), dim=0)\n",
    "        \n",
    "    elif name == \"fc3.linear.weight\":\n",
    "        p.data = p.data.mul(torch.mean(latentbe.get_parameter('fc3.r_factor'), dim=0).view(1, -1))\n",
    "        p.data = p.data.mul(torch.mean(latentbe.get_parameter('fc3.s_factor'), dim=0).view(-1, 1))\n",
    "\n",
    "    elif name == \"fc3.bias\":\n",
    "        p.data = torch.mean(latentbe.get_parameter('fc3.bias'), dim=0)\n",
    "\n",
    "# evaluate latentBE\n",
    "evaluate_base(latentbe, test_loader, device)"
   ]
  },
  {
   "cell_type": "code",
   "execution_count": null,
   "id": "49d315f5",
   "metadata": {},
   "outputs": [],
   "source": []
  }
 ],
 "metadata": {
  "kernelspec": {
   "display_name": "test-env",
   "language": "python",
   "name": "test-env"
  },
  "language_info": {
   "codemirror_mode": {
    "name": "ipython",
    "version": 3
   },
   "file_extension": ".py",
   "mimetype": "text/x-python",
   "name": "python",
   "nbconvert_exporter": "python",
   "pygments_lexer": "ipython3",
   "version": "3.10.3"
  }
 },
 "nbformat": 4,
 "nbformat_minor": 5
}
