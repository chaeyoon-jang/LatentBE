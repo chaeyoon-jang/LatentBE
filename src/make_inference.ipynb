{
 "cells": [
  {
   "cell_type": "code",
   "execution_count": 47,
   "id": "a15e9038",
   "metadata": {},
   "outputs": [],
   "source": [
    "from evaluation import evaluate_base\n",
    "from cnn_be import CNN_be\n",
    "from cnn import CNN\n",
    "import torch\n",
    "from torch.nn.utils import prune"
   ]
  },
  {
   "cell_type": "code",
   "execution_count": 48,
   "id": "b834ba6a",
   "metadata": {},
   "outputs": [
    {
     "data": {
      "text/plain": [
       "<All keys matched successfully>"
      ]
     },
     "execution_count": 48,
     "metadata": {},
     "output_type": "execute_result"
    }
   ],
   "source": [
    "ckpt = \"/home/chaeyoon-jang/test/fashion_mnist/ckpt2/LatentBE_model_checkpoint_epoch_193.pt\"\n",
    "latentbe = CNN_be()\n",
    "latentbe.load_state_dict(torch.load(ckpt)['model_state_dict'])"
   ]
  },
  {
   "cell_type": "code",
   "execution_count": 43,
   "id": "150dd867",
   "metadata": {},
   "outputs": [],
   "source": [
    "r_1 = latentbe.get_parameter('layer1.0.r')\n",
    "s_1 = latentbe.get_parameter('layer1.0.s') + latentbe.get_parameter('layer1.0.b')\n",
    "rs_1 = torch.matmul(torch.transpose(r_1, 0, 1), s_1)\n",
    "\n",
    "r_2 = latentbe.get_parameter('layer2.0.r')\n",
    "s_2 = latentbe.get_parameter('layer2.0.s') + latentbe.get_parameter('layer2.0.b')\n",
    "rs_2 = torch.matmul(torch.transpose(r_2, 0, 1), s_2)\n",
    "\n",
    "r_3 = latentbe.get_parameter('fc1.r')\n",
    "s_3 = latentbe.get_parameter('fc1.s') + latentbe.get_parameter('fc1.b')\n",
    "rs_3 = torch.matmul(torch.transpose(r_3, 0, 1), s_3)\n",
    "\n",
    "r_4 = latentbe.get_parameter('fc2.r')\n",
    "s_4 = latentbe.get_parameter('fc2.s') + latentbe.get_parameter('fc2.b')\n",
    "rs_4 = torch.matmul(torch.transpose(r_4, 0, 1), s_4)\n",
    "\n",
    "r_5 = latentbe.get_parameter('fc3.r')\n",
    "s_5 = latentbe.get_parameter('fc3.s') + latentbe.get_parameter('fc3.b')\n",
    "rs_5 = torch.matmul(torch.transpose(r_5, 0, 1), s_5)"
   ]
  },
  {
   "cell_type": "code",
   "execution_count": 44,
   "id": "47d6cebf",
   "metadata": {},
   "outputs": [],
   "source": [
    "destination = []\n",
    "for idx, p in enumerate(latentbe.named_parameters()):\n",
    "    \n",
    "    if \"conv.weight\" in p[0]:\n",
    "        \n",
    "        if \"layer1\" in p[0]:\n",
    "            destination.append(idx)\n",
    "            \n",
    "        elif \"layer2\" in p[0]:\n",
    "            destination.append(idx)\n",
    "            \n",
    "    if \"linear.weight\" in p[0]:\n",
    "        \n",
    "        if \"fc1\" in p[0]:\n",
    "            destination.append(idx)\n",
    "            \n",
    "        elif \"fc2\" in p[0]:\n",
    "            destination.append(idx)\n",
    "            \n",
    "        elif \"fc3\" in p[0]:\n",
    "            destination.append(idx)"
   ]
  },
  {
   "cell_type": "code",
   "execution_count": 45,
   "id": "c49dc917",
   "metadata": {},
   "outputs": [],
   "source": [
    "group = []\n",
    "for idx, p in enumerate(latentbe.parameters()):\n",
    "    if idx == destination[0]:\n",
    "        result = torch.mul(p.data, rs_1.expand(5,5,1,6).reshape(6,1,5,5))\n",
    "        p.data = result\n",
    "        \n",
    "    elif idx == destination[1]:\n",
    "        result = torch.mul(p.data, rs_2.expand(5,5,6,12).reshape(12,6,5,5))\n",
    "        p.data = result\n",
    "        \n",
    "    elif idx == destination[2]:\n",
    "        result = torch.mul(p.data, torch.transpose(rs_3, 0, 1))\n",
    "        p.data = result\n",
    "                \n",
    "    elif idx == destination[3]:\n",
    "        result = torch.mul(p.data, torch.transpose(rs_4, 0, 1))\n",
    "        p.data = result\n",
    "        \n",
    "    elif idx == destination[4]:\n",
    "        result = torch.mul(p.data, torch.transpose(rs_5, 0, 1)) \n",
    "        p.data = result"
   ]
  }
 ],
 "metadata": {
  "kernelspec": {
   "display_name": "test-env",
   "language": "python",
   "name": "test-env"
  },
  "language_info": {
   "codemirror_mode": {
    "name": "ipython",
    "version": 3
   },
   "file_extension": ".py",
   "mimetype": "text/x-python",
   "name": "python",
   "nbconvert_exporter": "python",
   "pygments_lexer": "ipython3",
   "version": "3.10.3"
  }
 },
 "nbformat": 4,
 "nbformat_minor": 5
}
