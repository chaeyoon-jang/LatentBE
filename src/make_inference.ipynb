{
 "cells": [
  {
   "cell_type": "code",
   "execution_count": 1,
   "id": "a15e9038",
   "metadata": {},
   "outputs": [],
   "source": [
    "import warnings\n",
    "warnings.filterwarnings('ignore')\n",
    "\n",
    "import os\n",
    "\n",
    "import os.path as p\n",
    "from evaluation import evaluate_base, evaluate_ensemble\n",
    "from cnn_be import CNN_be\n",
    "from cnn import CNN\n",
    "import torch\n",
    "import torchvision\n",
    "from torch.nn.utils import prune\n",
    "from torchvision import datasets, transforms"
   ]
  },
  {
   "cell_type": "code",
   "execution_count": 2,
   "id": "1702590e",
   "metadata": {},
   "outputs": [],
   "source": [
    "transform = transforms.Compose([transforms.Resize((32, 32)), transforms.ToTensor()])\n",
    "\n",
    "train_dataset = datasets.FashionMNIST('~/.pytorch/F_MNIST_data/', download=True, train=True, transform=transform)\n",
    "test_dataset = datasets.FashionMNIST('~/.pytorch/F_MNIST_data/', download=True, train=False, transform=transform)\n",
    "\n",
    "train_size = int(0.8*len(train_dataset))\n",
    "valid_size = len(train_dataset) - train_size\n",
    "\n",
    "generator = torch.Generator()\n",
    "generator.manual_seed(0)\n",
    "    \n",
    "train_dataset, valid_dataset = torch.utils.data.random_split(train_dataset, [train_size, valid_size], generator=generator)\n",
    "valid_loader = torch.utils.data.DataLoader(valid_dataset, batch_size=len(valid_dataset), shuffle=False) \n",
    "test_loader = torch.utils.data.DataLoader(test_dataset, batch_size=128, shuffle=False)\n",
    "\n",
    "device = torch.device(\"cuda:0\" if torch.cuda.is_available() else \"cpu\")"
   ]
  },
  {
   "cell_type": "markdown",
   "id": "ca3751bd",
   "metadata": {},
   "source": [
    "# Single Model & Ensemble Teacher Model "
   ]
  },
  {
   "cell_type": "code",
   "execution_count": 3,
   "id": "0efb397b",
   "metadata": {},
   "outputs": [
    {
     "name": "stderr",
     "output_type": "stream",
     "text": [
      "79it [00:01, 57.36it/s]\n"
     ]
    },
    {
     "name": "stdout",
     "output_type": "stream",
     "text": [
      "0.8845925632911392\n",
      "0.331267992529688\n",
      "0.062311239540576935\n",
      "0.3181883368311049\n",
      "0.0593358613550663\n"
     ]
    },
    {
     "name": "stderr",
     "output_type": "stream",
     "text": [
      "79it [00:01, 50.59it/s]"
     ]
    },
    {
     "name": "stdout",
     "output_type": "stream",
     "text": [
      "0.9081289556962026\n",
      "0.25864631088474127\n",
      "0.05616796016693115\n",
      "0.25673888887785656\n",
      "0.05613895133137703\n"
     ]
    },
    {
     "name": "stderr",
     "output_type": "stream",
     "text": [
      "\n"
     ]
    }
   ],
   "source": [
    "# model update\n",
    "tmodel = []\n",
    "ckpt = '/home/chaeyoon-jang/test/l/ckpt2'\n",
    "for num in range(4):\n",
    "    seed = 42 + num\n",
    "    model = CNN()\n",
    "    ckpt_p = p.join(ckpt, str(seed)+\"_teacher_model_checkpoint.pt\")\n",
    "    model.load_state_dict(torch.load(ckpt_p)['model_state_dict'])\n",
    "    tmodel.append(model)\n",
    "\n",
    "# evaluate singel model\n",
    "evaluate_base(tmodel[0], test_loader, valid_loader, device)\n",
    "\n",
    "# evaluate ensemble teacher model\n",
    "evaluate_ensemble(tmodel, test_loader, valid_loader, 0, device)"
   ]
  },
  {
   "cell_type": "markdown",
   "id": "b3b496b3",
   "metadata": {},
   "source": [
    "# Knowledge Distillation Model"
   ]
  },
  {
   "cell_type": "code",
   "execution_count": 4,
   "id": "9fcb7349",
   "metadata": {},
   "outputs": [
    {
     "name": "stderr",
     "output_type": "stream",
     "text": [
      "79it [00:01, 57.75it/s]"
     ]
    },
    {
     "name": "stdout",
     "output_type": "stream",
     "text": [
      "0.8855814873417721\n",
      "0.31700533892534954\n",
      "0.06054038181900978\n",
      "0.313682463161553\n",
      "0.06377920508384705\n"
     ]
    },
    {
     "name": "stderr",
     "output_type": "stream",
     "text": [
      "\n"
     ]
    }
   ],
   "source": [
    "# model update\n",
    "ckpt = \"/home/chaeyoon-jang/test/l/ckpt2/KD_model_checkpoint_epoch_166.pt\"\n",
    "kd = CNN()\n",
    "kd.load_state_dict(torch.load(ckpt)['model_state_dict'])\n",
    "\n",
    "# evaluate kd model\n",
    "evaluate_base(kd, test_loader, valid_loader, device)"
   ]
  },
  {
   "cell_type": "markdown",
   "id": "e293a482",
   "metadata": {},
   "source": [
    "# General BatchEnsemble & LatentBE"
   ]
  },
  {
   "cell_type": "code",
   "execution_count": 6,
   "id": "1afe51c5",
   "metadata": {},
   "outputs": [
    {
     "name": "stderr",
     "output_type": "stream",
     "text": [
      "79it [00:01, 56.77it/s]\n"
     ]
    },
    {
     "name": "stdout",
     "output_type": "stream",
     "text": [
      "0.8571993670886076\n",
      "0.40551711675486984\n",
      "0.07501891255378723\n",
      "0.40276484097106546\n",
      "0.06937651336193085\n"
     ]
    },
    {
     "name": "stderr",
     "output_type": "stream",
     "text": [
      "79it [00:01, 56.80it/s]"
     ]
    },
    {
     "name": "stdout",
     "output_type": "stream",
     "text": [
      "0.858682753164557\n",
      "0.40433049692383294\n",
      "0.0753621831536293\n",
      "0.4015984510696387\n",
      "0.06946507841348648\n"
     ]
    },
    {
     "name": "stderr",
     "output_type": "stream",
     "text": [
      "\n"
     ]
    }
   ],
   "source": [
    "# model update\n",
    "ckpt = \"/home/chaeyoon-jang/test/l/ckpt/LatentBE_model_checkpoint_epoch_194.pt\"\n",
    "\n",
    "latentbe = CNN_be(inference=True, bias_is=True)\n",
    "generalbe = CNN_be(bias_is=True)\n",
    "\n",
    "latentbe.load_state_dict(torch.load(ckpt)['model_state_dict'])\n",
    "generalbe.load_state_dict(torch.load(ckpt)['model_state_dict'])\n",
    "\n",
    "# make latentBE\n",
    "for name, p in latentbe.named_parameters():\n",
    "    if name == \"layer1.0.conv.weight\":\n",
    "        p.data = p.data.mul(torch.mean(latentbe.get_parameter('layer1.0.r_factor'), dim=0).view(1, -1, 1, 1))\n",
    "        p.data = p.data.mul(torch.mean(latentbe.get_parameter('layer1.0.s_factor'), dim=0).view(-1, 1, 1, 1))\n",
    "    \n",
    "    elif name == \"layer1.0.bias\":\n",
    "        p.data = torch.mean(latentbe.get_parameter('layer1.0.bias'), dim=0)\n",
    "        \n",
    "    elif name == \"layer2.0.conv.weight\":\n",
    "        p.data = p.data.mul(torch.mean(latentbe.get_parameter('layer2.0.r_factor'), dim=0).view(1, -1, 1, 1))\n",
    "        p.data = p.data.mul(torch.mean(latentbe.get_parameter('layer2.0.s_factor'), dim=0).view(-1, 1, 1, 1))\n",
    "    \n",
    "    elif name == \"layer2.0.bias\":\n",
    "        p.data = torch.mean(latentbe.get_parameter('layer2.0.bias'), dim=0)\n",
    "        \n",
    "    elif name == \"fc1.linear.weight\":\n",
    "        p.data = p.data.mul(torch.mean(latentbe.get_parameter('fc1.r_factor'), dim=0).view(1, -1))\n",
    "        p.data = p.data.mul(torch.mean(latentbe.get_parameter('fc1.s_factor'), dim=0).view(-1, 1))\n",
    "    \n",
    "    elif name == \"fc1.bias\":\n",
    "        p.data = torch.mean(latentbe.get_parameter('fc1.bias'), dim=0)\n",
    "        \n",
    "    elif name == \"fc2.linear.weight\":\n",
    "        p.data = p.data.mul(torch.mean(latentbe.get_parameter('fc2.r_factor'), dim=0).view(1, -1))\n",
    "        p.data = p.data.mul(torch.mean(latentbe.get_parameter('fc2.s_factor'), dim=0).view(-1, 1))\n",
    "        \n",
    "    elif name == \"fc2.bias\":\n",
    "        p.data = torch.mean(latentbe.get_parameter('fc2.bias'), dim=0)\n",
    "        \n",
    "    elif name == \"fc3.linear.weight\":\n",
    "        p.data = p.data.mul(torch.mean(latentbe.get_parameter('fc3.r_factor'), dim=0).view(1, -1))\n",
    "        p.data = p.data.mul(torch.mean(latentbe.get_parameter('fc3.s_factor'), dim=0).view(-1, 1))\n",
    "\n",
    "    elif name == \"fc3.bias\":\n",
    "        p.data = torch.mean(latentbe.get_parameter('fc3.bias'), dim=0)\n",
    "\n",
    "# evaluate general BE\n",
    "evaluate_base(generalbe, test_loader, valid_loader, device)\n",
    "\n",
    "# evaluate latentBE\n",
    "evaluate_base(latentbe, test_loader, valid_loader, device)"
   ]
  },
  {
   "cell_type": "markdown",
   "id": "4a66d401",
   "metadata": {},
   "source": [
    "# LatentBE + div"
   ]
  },
  {
   "cell_type": "code",
   "execution_count": 7,
   "id": "430e4c0b",
   "metadata": {},
   "outputs": [
    {
     "name": "stderr",
     "output_type": "stream",
     "text": [
      "79it [00:01, 56.36it/s]"
     ]
    },
    {
     "name": "stdout",
     "output_type": "stream",
     "text": [
      "0.8537381329113924\n",
      "0.41122505974166\n",
      "0.07770675420761108\n",
      "0.40810731732392613\n",
      "0.06784618645906448\n"
     ]
    },
    {
     "name": "stderr",
     "output_type": "stream",
     "text": [
      "\n"
     ]
    }
   ],
   "source": [
    "# model update\n",
    "ckpt = \"/home/chaeyoon-jang/test/l/ckpt2/LatentBE_div_model_checkpoint_epoch_99.pt\"\n",
    "\n",
    "latentbe = CNN_be(inference=True, bias_is=True)\n",
    "\n",
    "latentbe.load_state_dict(torch.load(ckpt)['model_state_dict'])\n",
    "\n",
    "# make latentBE\n",
    "for name, p in latentbe.named_parameters():\n",
    "    if name == \"layer1.0.conv.weight\":\n",
    "        p.data = p.data.mul(torch.mean(latentbe.get_parameter('layer1.0.r_factor'), dim=0).view(1, -1, 1, 1))\n",
    "        p.data = p.data.mul(torch.mean(latentbe.get_parameter('layer1.0.s_factor'), dim=0).view(-1, 1, 1, 1))\n",
    "    \n",
    "    elif name == \"layer1.0.bias\":\n",
    "        p.data = torch.mean(latentbe.get_parameter('layer1.0.bias'), dim=0)\n",
    "        \n",
    "    elif name == \"layer2.0.conv.weight\":\n",
    "        p.data = p.data.mul(torch.mean(latentbe.get_parameter('layer2.0.r_factor'), dim=0).view(1, -1, 1, 1))\n",
    "        p.data = p.data.mul(torch.mean(latentbe.get_parameter('layer2.0.s_factor'), dim=0).view(-1, 1, 1, 1))\n",
    "    \n",
    "    elif name == \"layer2.0.bias\":\n",
    "        p.data = torch.mean(latentbe.get_parameter('layer2.0.bias'), dim=0)\n",
    "        \n",
    "    elif name == \"fc1.linear.weight\":\n",
    "        p.data = p.data.mul(torch.mean(latentbe.get_parameter('fc1.r_factor'), dim=0).view(1, -1))\n",
    "        p.data = p.data.mul(torch.mean(latentbe.get_parameter('fc1.s_factor'), dim=0).view(-1, 1))\n",
    "    \n",
    "    elif name == \"fc1.bias\":\n",
    "        p.data = torch.mean(latentbe.get_parameter('fc1.bias'), dim=0)\n",
    "        \n",
    "    elif name == \"fc2.linear.weight\":\n",
    "        p.data = p.data.mul(torch.mean(latentbe.get_parameter('fc2.r_factor'), dim=0).view(1, -1))\n",
    "        p.data = p.data.mul(torch.mean(latentbe.get_parameter('fc2.s_factor'), dim=0).view(-1, 1))\n",
    "        \n",
    "    elif name == \"fc2.bias\":\n",
    "        p.data = torch.mean(latentbe.get_parameter('fc2.bias'), dim=0)\n",
    "        \n",
    "    elif name == \"fc3.linear.weight\":\n",
    "        p.data = p.data.mul(torch.mean(latentbe.get_parameter('fc3.r_factor'), dim=0).view(1, -1))\n",
    "        p.data = p.data.mul(torch.mean(latentbe.get_parameter('fc3.s_factor'), dim=0).view(-1, 1))\n",
    "\n",
    "    elif name == \"fc3.bias\":\n",
    "        p.data = torch.mean(latentbe.get_parameter('fc3.bias'), dim=0)\n",
    "\n",
    "# evaluate latentBE\n",
    "evaluate_base(latentbe, test_loader, valid_loader, device)"
   ]
  },
  {
   "cell_type": "code",
   "execution_count": null,
   "id": "bcd3f616",
   "metadata": {},
   "outputs": [],
   "source": []
  }
 ],
 "metadata": {
  "kernelspec": {
   "display_name": "test-env",
   "language": "python",
   "name": "test-env"
  },
  "language_info": {
   "codemirror_mode": {
    "name": "ipython",
    "version": 3
   },
   "file_extension": ".py",
   "mimetype": "text/x-python",
   "name": "python",
   "nbconvert_exporter": "python",
   "pygments_lexer": "ipython3",
   "version": "3.10.3"
  }
 },
 "nbformat": 4,
 "nbformat_minor": 5
}
